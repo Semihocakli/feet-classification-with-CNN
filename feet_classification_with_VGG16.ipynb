{
  "nbformat": 4,
  "nbformat_minor": 0,
  "metadata": {
    "colab": {
      "provenance": [],
      "gpuType": "T4"
    },
    "kernelspec": {
      "name": "python3",
      "display_name": "Python 3"
    },
    "language_info": {
      "name": "python"
    },
    "accelerator": "GPU"
  },
  "cells": [
    {
      "cell_type": "markdown",
      "source": [
        "# **Ortam Hazırlığı**"
      ],
      "metadata": {
        "id": "1oZooC-DezMj"
      }
    },
    {
      "cell_type": "code",
      "execution_count": 1,
      "metadata": {
        "colab": {
          "base_uri": "https://localhost:8080/"
        },
        "id": "NdDDWeYUekIs",
        "outputId": "059d7715-19cc-406e-a669-17798c0a2fce"
      },
      "outputs": [
        {
          "output_type": "stream",
          "name": "stdout",
          "text": [
            "Mounted at /content/drive\n"
          ]
        }
      ],
      "source": [
        "from google.colab import drive\n",
        "drive.mount('/content/drive')\n"
      ]
    },
    {
      "cell_type": "code",
      "source": [
        "!pwd"
      ],
      "metadata": {
        "colab": {
          "base_uri": "https://localhost:8080/"
        },
        "id": "Z_DynWVyfHXl",
        "outputId": "ebd2c2da-ca20-48ef-d545-2473a71ded20"
      },
      "execution_count": 2,
      "outputs": [
        {
          "output_type": "stream",
          "name": "stdout",
          "text": [
            "/content\n"
          ]
        }
      ]
    },
    {
      "cell_type": "code",
      "source": [
        "%cd /content/drive/MyDrive/Colab Notebooks/Ayak-Classification-CNN"
      ],
      "metadata": {
        "colab": {
          "base_uri": "https://localhost:8080/"
        },
        "id": "DGdK8UzifKXQ",
        "outputId": "7c84aa95-d47e-4f66-ddea-8e2e96e6b572"
      },
      "execution_count": 3,
      "outputs": [
        {
          "output_type": "stream",
          "name": "stdout",
          "text": [
            "/content/drive/MyDrive/Colab Notebooks/Ayak-Classification-CNN\n"
          ]
        }
      ]
    },
    {
      "cell_type": "markdown",
      "source": [
        "# **Veriseti Hazılığı**"
      ],
      "metadata": {
        "id": "DiPyDnQHfOrA"
      }
    },
    {
      "cell_type": "code",
      "source": [
        "import os\n",
        "\n",
        "data_path = \"data/feet_dataset\"\n",
        "\n",
        "# Klasör isimleri\n",
        "folders = [\"train\", \"test\", \"val\"]\n",
        "\n",
        "for folder in folders:\n",
        "    folder_path = os.path.join(data_path, folder)\n",
        "\n",
        "    # Erkek ve kadın klasörlerini içeren klasör listesi\n",
        "    gender_folders = [\"Erkek\", \"Kadin\"]\n",
        "\n",
        "    for gender_folder in gender_folders:\n",
        "        gender_folder_path = os.path.join(folder_path, gender_folder)\n",
        "\n",
        "        # Klasördeki dosya sayısını öğrenme\n",
        "        num_files = len(os.listdir(gender_folder_path))\n",
        "\n",
        "        print(f\"{folder} klasörü içinde {gender_folder} klasöründe toplam {num_files} fotoğraf bulunmaktadır.\")"
      ],
      "metadata": {
        "colab": {
          "base_uri": "https://localhost:8080/"
        },
        "id": "a41Yw9LeffiN",
        "outputId": "b1f50ac5-30f6-4b3e-d511-a4ae3956d8ea"
      },
      "execution_count": 5,
      "outputs": [
        {
          "output_type": "stream",
          "name": "stdout",
          "text": [
            "train klasörü içinde Erkek klasöründe toplam 1817 fotoğraf bulunmaktadır.\n",
            "train klasörü içinde Kadin klasöründe toplam 1853 fotoğraf bulunmaktadır.\n",
            "test klasörü içinde Erkek klasöründe toplam 228 fotoğraf bulunmaktadır.\n",
            "test klasörü içinde Kadin klasöründe toplam 233 fotoğraf bulunmaktadır.\n",
            "val klasörü içinde Erkek klasöründe toplam 227 fotoğraf bulunmaktadır.\n",
            "val klasörü içinde Kadin klasöründe toplam 231 fotoğraf bulunmaktadır.\n"
          ]
        }
      ]
    },
    {
      "cell_type": "markdown",
      "source": [
        "# **Modelleme**"
      ],
      "metadata": {
        "id": "VcWRRn8afnWi"
      }
    },
    {
      "cell_type": "code",
      "source": [
        "import tensorflow\n",
        "import tensorflow as tf\n",
        "from tensorflow.keras.preprocessing.image import ImageDataGenerator"
      ],
      "metadata": {
        "id": "qvcFPLbjfkIJ"
      },
      "execution_count": 28,
      "outputs": []
    },
    {
      "cell_type": "code",
      "source": [
        "# VGG16 önceden eğitilmiş bir CNN modelidir.\n",
        "conv_base = tensorflow.keras.applications.VGG16(weights='imagenet',\n",
        "                  include_top=False,\n",
        "                  input_shape=(224, 224, 3)\n",
        "                  )\n"
      ],
      "metadata": {
        "id": "k62NzU-1f7Ty"
      },
      "execution_count": 29,
      "outputs": []
    },
    {
      "cell_type": "code",
      "source": [
        "# Erişim katmanlarını gösteriyor\n",
        "conv_base.summary()"
      ],
      "metadata": {
        "colab": {
          "base_uri": "https://localhost:8080/"
        },
        "id": "4H6zkw4yf8jz",
        "outputId": "7914bc82-cd38-4a48-8190-f2936eb241f3"
      },
      "execution_count": 30,
      "outputs": [
        {
          "output_type": "stream",
          "name": "stdout",
          "text": [
            "Model: \"vgg16\"\n",
            "_________________________________________________________________\n",
            " Layer (type)                Output Shape              Param #   \n",
            "=================================================================\n",
            " input_3 (InputLayer)        [(None, 224, 224, 3)]     0         \n",
            "                                                                 \n",
            " block1_conv1 (Conv2D)       (None, 224, 224, 64)      1792      \n",
            "                                                                 \n",
            " block1_conv2 (Conv2D)       (None, 224, 224, 64)      36928     \n",
            "                                                                 \n",
            " block1_pool (MaxPooling2D)  (None, 112, 112, 64)      0         \n",
            "                                                                 \n",
            " block2_conv1 (Conv2D)       (None, 112, 112, 128)     73856     \n",
            "                                                                 \n",
            " block2_conv2 (Conv2D)       (None, 112, 112, 128)     147584    \n",
            "                                                                 \n",
            " block2_pool (MaxPooling2D)  (None, 56, 56, 128)       0         \n",
            "                                                                 \n",
            " block3_conv1 (Conv2D)       (None, 56, 56, 256)       295168    \n",
            "                                                                 \n",
            " block3_conv2 (Conv2D)       (None, 56, 56, 256)       590080    \n",
            "                                                                 \n",
            " block3_conv3 (Conv2D)       (None, 56, 56, 256)       590080    \n",
            "                                                                 \n",
            " block3_pool (MaxPooling2D)  (None, 28, 28, 256)       0         \n",
            "                                                                 \n",
            " block4_conv1 (Conv2D)       (None, 28, 28, 512)       1180160   \n",
            "                                                                 \n",
            " block4_conv2 (Conv2D)       (None, 28, 28, 512)       2359808   \n",
            "                                                                 \n",
            " block4_conv3 (Conv2D)       (None, 28, 28, 512)       2359808   \n",
            "                                                                 \n",
            " block4_pool (MaxPooling2D)  (None, 14, 14, 512)       0         \n",
            "                                                                 \n",
            " block5_conv1 (Conv2D)       (None, 14, 14, 512)       2359808   \n",
            "                                                                 \n",
            " block5_conv2 (Conv2D)       (None, 14, 14, 512)       2359808   \n",
            "                                                                 \n",
            " block5_conv3 (Conv2D)       (None, 14, 14, 512)       2359808   \n",
            "                                                                 \n",
            " block5_pool (MaxPooling2D)  (None, 7, 7, 512)         0         \n",
            "                                                                 \n",
            "=================================================================\n",
            "Total params: 14714688 (56.13 MB)\n",
            "Trainable params: 14714688 (56.13 MB)\n",
            "Non-trainable params: 0 (0.00 Byte)\n",
            "_________________________________________________________________\n"
          ]
        }
      ]
    },
    {
      "cell_type": "code",
      "source": [
        "# Eğitilecek ve dondurulacak katmanları belirleme.\n",
        "# 'block5_conv1' katmanına kadar dondurulacak.\n",
        "conv_base.trainable = True\n",
        "set_trainable = False\n",
        "for layer in conv_base.layers:\n",
        "    if layer.name == 'block5_conv1':\n",
        "        set_trainable = True\n",
        "    if set_trainable:\n",
        "        layer.trainable = True\n",
        "    else:\n",
        "        layer.trainable = False\n"
      ],
      "metadata": {
        "id": "t3CV91-ggL8t"
      },
      "execution_count": 10,
      "outputs": []
    },
    {
      "cell_type": "code",
      "source": [
        "# Boş bir model oluşturma.\n",
        "model = tensorflow.keras.models.Sequential()"
      ],
      "metadata": {
        "id": "W5OzUfCbgSIm"
      },
      "execution_count": 11,
      "outputs": []
    },
    {
      "cell_type": "code",
      "source": [
        "# VGG16'yı evrişim katmanı olarak eklenmesi.\n",
        "model.add(conv_base)"
      ],
      "metadata": {
        "id": "DZC7zio_gWkN"
      },
      "execution_count": 12,
      "outputs": []
    },
    {
      "cell_type": "code",
      "source": [
        "# Katmanları matrislerden vektörlere dönüştürme.\n",
        "model.add(tensorflow.keras.layers.Flatten())"
      ],
      "metadata": {
        "id": "Wo5fPHA5gYne"
      },
      "execution_count": 13,
      "outputs": []
    },
    {
      "cell_type": "code",
      "source": [
        "# Özel sinir ağı katmanı eklenmesi.\n",
        "model.add(tensorflow.keras.layers.Dense(256, activation='relu'))\n",
        "model.add(tensorflow.keras.layers.Dense(2, activation='softmax'))"
      ],
      "metadata": {
        "id": "Eh_ckDSXga-I"
      },
      "execution_count": 46,
      "outputs": []
    },
    {
      "cell_type": "code",
      "source": [
        "# Modelin derlenmesi (compile).\n",
        "model.compile(loss='categorical_crossentropy',  # Categorical crossentropy kullanılır\n",
        "              optimizer=tensorflow.keras.optimizers.RMSprop(lr=1e-5),\n",
        "              metrics=['acc'])\n",
        "\n"
      ],
      "metadata": {
        "colab": {
          "base_uri": "https://localhost:8080/"
        },
        "id": "QV9nEh8Jgd4C",
        "outputId": "9fc2b267-75e0-4730-b172-869df543ee77"
      },
      "execution_count": 51,
      "outputs": [
        {
          "output_type": "stream",
          "name": "stderr",
          "text": [
            "WARNING:absl:`lr` is deprecated in Keras optimizer, please use `learning_rate` or use the legacy optimizer, e.g.,tf.keras.optimizers.legacy.RMSprop.\n"
          ]
        }
      ]
    },
    {
      "cell_type": "code",
      "source": [
        "# Oluşturulan modeli gösterme.\n",
        "model.summary()"
      ],
      "metadata": {
        "colab": {
          "base_uri": "https://localhost:8080/"
        },
        "id": "5gwsxiUngijj",
        "outputId": "a0540bca-b316-4e44-b937-b4b1f0221e70"
      },
      "execution_count": 16,
      "outputs": [
        {
          "output_type": "stream",
          "name": "stdout",
          "text": [
            "Model: \"sequential\"\n",
            "_________________________________________________________________\n",
            " Layer (type)                Output Shape              Param #   \n",
            "=================================================================\n",
            " vgg16 (Functional)          (None, 7, 7, 512)         14714688  \n",
            "                                                                 \n",
            " flatten (Flatten)           (None, 25088)             0         \n",
            "                                                                 \n",
            " dense (Dense)               (None, 256)               6422784   \n",
            "                                                                 \n",
            " dense_1 (Dense)             (None, 2)                 514       \n",
            "                                                                 \n",
            "=================================================================\n",
            "Total params: 21137986 (80.64 MB)\n",
            "Trainable params: 13502722 (51.51 MB)\n",
            "Non-trainable params: 7635264 (29.13 MB)\n",
            "_________________________________________________________________\n"
          ]
        }
      ]
    },
    {
      "cell_type": "code",
      "source": [
        "# Verilerin bulunduğu dizinler belirlenir.\n",
        "train_dir = 'data/feet_dataset/train'\n",
        "validation_dir = 'data/feet_dataset/val'\n",
        "test_dir = 'data/feet_dataset/test'"
      ],
      "metadata": {
        "id": "mMKZ4Dq2gkkq"
      },
      "execution_count": 17,
      "outputs": []
    },
    {
      "cell_type": "code",
      "source": [
        "train_datagen = tensorflow.keras.preprocessing.image.ImageDataGenerator(\n",
        "      rescale=1./255, # piksel değerleri 0-255'den 0-1 arasına getiriliyor.\n",
        "      rotation_range=40, # istenilen artırma işlemleri yapılabilir.\n",
        "      width_shift_range=0.2,\n",
        "      height_shift_range=0.2,\n",
        "      shear_range=0.2,\n",
        "      zoom_range=0.2,\n",
        "      horizontal_flip=True,\n",
        "      fill_mode='nearest'\n",
        "      )"
      ],
      "metadata": {
        "id": "OnjyiGe1oy6p"
      },
      "execution_count": 43,
      "outputs": []
    },
    {
      "cell_type": "code",
      "source": [
        "# Eğitim verileri oluşturma\n",
        "train_generator = train_datagen.flow_from_directory(\n",
        "    os.path.join(data_path, \"train\"),\n",
        "    target_size=(224, 224),\n",
        "    batch_size=batch_size,\n",
        "    class_mode=\"categorical\",\n",
        "    classes=class_names\n",
        ")\n",
        "\n",
        "# Validasyon verileri oluşturma\n",
        "validation_generator = val_datagen.flow_from_directory(\n",
        "    os.path.join(data_path, \"val\"),\n",
        "    target_size=(224, 224),\n",
        "    batch_size=batch_size,\n",
        "    class_mode=\"categorical\",\n",
        "    classes=class_names\n",
        ")"
      ],
      "metadata": {
        "colab": {
          "base_uri": "https://localhost:8080/"
        },
        "id": "HACq3bY1o1Pn",
        "outputId": "b3a5c040-d3d5-4e5e-b74a-d97e124145cf"
      },
      "execution_count": 50,
      "outputs": [
        {
          "output_type": "stream",
          "name": "stdout",
          "text": [
            "Found 3670 images belonging to 2 classes.\n",
            "Found 458 images belonging to 2 classes.\n"
          ]
        }
      ]
    },
    {
      "cell_type": "code",
      "source": [
        "history = model.fit(\n",
        "    train_generator,\n",
        "    steps_per_epoch=50,\n",
        "    epochs=10,\n",
        "    validation_data=validation_generator,\n",
        "    validation_steps=10\n",
        ")\n"
      ],
      "metadata": {
        "colab": {
          "base_uri": "https://localhost:8080/"
        },
        "id": "UYmIGDNao4pB",
        "outputId": "3eedf18c-f8ad-4613-f6af-7128916df761"
      },
      "execution_count": 54,
      "outputs": [
        {
          "output_type": "stream",
          "name": "stdout",
          "text": [
            "Epoch 1/10\n",
            "50/50 [==============================] - 31s 627ms/step - loss: 0.6936 - acc: 0.4963 - val_loss: 0.6930 - val_acc: 0.5125\n",
            "Epoch 2/10\n",
            "50/50 [==============================] - 34s 682ms/step - loss: 0.6932 - acc: 0.5019 - val_loss: 0.6938 - val_acc: 0.4938\n",
            "Epoch 3/10\n",
            "50/50 [==============================] - 30s 602ms/step - loss: 0.6937 - acc: 0.4913 - val_loss: 0.6932 - val_acc: 0.4906\n",
            "Epoch 4/10\n",
            "50/50 [==============================] - 32s 634ms/step - loss: 0.6933 - acc: 0.4969 - val_loss: 0.6930 - val_acc: 0.5094\n",
            "Epoch 5/10\n",
            "50/50 [==============================] - 32s 634ms/step - loss: 0.6933 - acc: 0.5119 - val_loss: 0.6938 - val_acc: 0.4938\n",
            "Epoch 6/10\n",
            "50/50 [==============================] - 31s 622ms/step - loss: 0.6936 - acc: 0.4844 - val_loss: 0.6933 - val_acc: 0.4688\n",
            "Epoch 7/10\n",
            "50/50 [==============================] - 31s 615ms/step - loss: 0.6931 - acc: 0.5044 - val_loss: 0.6931 - val_acc: 0.5063\n",
            "Epoch 8/10\n",
            "50/50 [==============================] - 32s 634ms/step - loss: 0.6933 - acc: 0.5031 - val_loss: 0.6931 - val_acc: 0.5031\n",
            "Epoch 9/10\n",
            "50/50 [==============================] - 31s 613ms/step - loss: 0.6934 - acc: 0.5038 - val_loss: 0.6934 - val_acc: 0.4844\n",
            "Epoch 10/10\n",
            "50/50 [==============================] - 30s 608ms/step - loss: 0.6933 - acc: 0.4787 - val_loss: 0.6930 - val_acc: 0.5219\n"
          ]
        }
      ]
    },
    {
      "cell_type": "code",
      "source": [
        "import matplotlib.pyplot as plt\n",
        "\n",
        "# Eğitim sürecinin sonuçlarını alın\n",
        "train_acc = history.history['acc']\n",
        "train_loss = history.history['loss']\n",
        "val_acc = history.history['val_acc']\n",
        "val_loss = history.history['val_loss']\n",
        "\n",
        "# Eğitim ve validasyon doğrulukları\n",
        "epochs = range(1, len(train_acc) + 1)\n",
        "\n",
        "# Eğitim ve validasyon doğruluklarının grafiğini oluşturun\n",
        "plt.figure(figsize=(12, 5))\n",
        "plt.subplot(1, 2, 1)\n",
        "plt.plot(epochs, train_acc, 'b', label='Training acc')\n",
        "plt.plot(epochs, val_acc, 'r', label='Validation acc')\n",
        "plt.title('Training and Validation Accuracy')\n",
        "plt.xlabel('Epochs')\n",
        "plt.ylabel('Accuracy')\n",
        "plt.legend()\n",
        "\n",
        "# Eğitim ve validasyon kayıplarının grafiğini oluşturun\n",
        "plt.subplot(1, 2, 2)\n",
        "plt.plot(epochs, train_loss, 'b', label='Training loss')\n",
        "plt.plot(epochs, val_loss, 'r', label='Validation loss')\n",
        "plt.title('Training and Validation Loss')\n",
        "plt.xlabel('Epochs')\n",
        "plt.ylabel('Loss')\n",
        "plt.legend()\n",
        "\n",
        "plt.show()\n"
      ],
      "metadata": {
        "colab": {
          "base_uri": "https://localhost:8080/",
          "height": 487
        },
        "id": "JUawWu5JvI8d",
        "outputId": "156e93f4-2fd2-4345-f104-ac67a96a9ca4"
      },
      "execution_count": 55,
      "outputs": [
        {
          "output_type": "display_data",
          "data": {
            "text/plain": [
              "<Figure size 1200x500 with 2 Axes>"
            ],
            "image/png": "[encoded data removed]"
          },
          "metadata": {}
        }
      ]
    }
  ]
}